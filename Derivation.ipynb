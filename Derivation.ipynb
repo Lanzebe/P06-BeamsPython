{
 "cells": [
  {
   "cell_type": "code",
   "execution_count": 3,
   "metadata": {},
   "outputs": [],
   "source": [
    "import sympy as sp"
   ]
  },
  {
   "cell_type": "code",
   "execution_count": 5,
   "metadata": {},
   "outputs": [],
   "source": [
    "m,c,x_start,x_end,x,x_cgx = sp.symbols('m,c,x_start,x_end,x,x_cgx')"
   ]
  },
  {
   "cell_type": "code",
   "execution_count": 6,
   "metadata": {},
   "outputs": [
    {
     "data": {
      "text/latex": [
       "$\\displaystyle \\begin{cases} 0 & \\text{for}\\: x \\leq x_{start} \\\\c + m x & \\text{for}\\: x \\leq x_{end} \\\\0 & \\text{otherwise} \\end{cases}$"
      ],
      "text/plain": [
       "Piecewise((0, x <= x_start), (c + m*x, x <= x_end), (0, True))"
      ]
     },
     "metadata": {},
     "output_type": "display_data"
    },
    {
     "name": "stdout",
     "output_type": "stream",
     "text": [
      "Piecewise((0, x <= x_start), (c + m*x, x <= x_end), (0, True))\n"
     ]
    }
   ],
   "source": [
    "q = sp.Piecewise((0, x<=x_start),(m*x + c, x<=x_end),(0, True)) \n",
    "display(q)\n",
    "print(q)"
   ]
  },
  {
   "cell_type": "code",
   "execution_count": 11,
   "metadata": {},
   "outputs": [
    {
     "data": {
      "text/latex": [
       "$\\displaystyle \\begin{cases} 0 & \\text{for}\\: x \\leq x_{start} \\\\c x - c x_{start} + \\frac{m x^{2}}{2} - \\frac{m x_{start}^{2}}{2} & \\text{for}\\: x \\leq \\max\\left(x_{end}, x_{start}\\right) \\\\- c x_{start} + c \\max\\left(x_{end}, x_{start}\\right) - \\frac{m x_{start}^{2}}{2} + \\frac{m \\max\\left(x_{end}, x_{start}\\right)^{2}}{2} & \\text{otherwise} \\end{cases}$"
      ],
      "text/plain": [
       "Piecewise((0, x <= x_start), (c*x - c*x_start + m*x**2/2 - m*x_start**2/2, x <= Max(x_end, x_start)), (-c*x_start + c*Max(x_end, x_start) - m*x_start**2/2 + m*Max(x_end, x_start)**2/2, True))"
      ]
     },
     "metadata": {},
     "output_type": "display_data"
    },
    {
     "name": "stdout",
     "output_type": "stream",
     "text": [
      "Piecewise((0, x <= x_start), (c*x - c*x_start + m*x**2/2 - m*x_start**2/2, x <= Max(x_end, x_start)), (-c*x_start + c*Max(x_end, x_start) - m*x_start**2/2 + m*Max(x_end, x_start)**2/2, True))\n"
     ]
    }
   ],
   "source": [
    "v = sp.integrate(q,x)\n",
    "\n",
    "display(v)\n",
    "print(v)"
   ]
  },
  {
   "cell_type": "code",
   "execution_count": 12,
   "metadata": {},
   "outputs": [
    {
     "name": "stdout",
     "output_type": "stream",
     "text": [
      "c*x - c*x_start + m*x**2/2 - m*x_start**2/2\n",
      "c*x_end - c*x_start + m*x_end**2/2 - m*x_start**2/2\n"
     ]
    }
   ],
   "source": [
    "v1 = c*x - c*x_start + m*x**2/2 - m*x_start**2/2\n",
    "v2 = -c*x_start + c*x_end - m*x_start**2/2 + m*x_end**2/2\n",
    "\n",
    "print(sp.simplify(v1))\n",
    "print(sp.simplify(v2))"
   ]
  },
  {
   "cell_type": "code",
   "execution_count": 8,
   "metadata": {},
   "outputs": [
    {
     "data": {
      "text/latex": [
       "$\\displaystyle \\begin{cases} \\begin{cases} 0 & \\text{for}\\: x \\leq x_{start} \\\\\\frac{c x^{2}}{2} - c x x_{start} + \\frac{c x_{start}^{2}}{2} + \\frac{m x^{3}}{6} - \\frac{m x x_{start}^{2}}{2} + \\frac{m x_{start}^{3}}{3} & \\text{for}\\: x \\leq \\max\\left(x_{end}, x_{start}\\right) \\\\c x x_{end} - c x x_{start} - c x_{end} \\max\\left(x_{end}, x_{start}\\right) + \\frac{c x_{start}^{2}}{2} + \\frac{c \\max\\left(x_{end}, x_{start}\\right)^{2}}{2} + \\frac{m x x_{end}^{2}}{2} - \\frac{m x x_{start}^{2}}{2} - \\frac{m x_{end}^{2} \\max\\left(x_{end}, x_{start}\\right)}{2} + \\frac{m x_{start}^{3}}{3} + \\frac{m \\max\\left(x_{end}, x_{start}\\right)^{3}}{6} & \\text{otherwise} \\end{cases} & \\text{for}\\: x_{end} \\geq x_{start} \\\\0 & \\text{otherwise} \\end{cases}$"
      ],
      "text/plain": [
       "Piecewise((Piecewise((0, x <= x_start), (c*x**2/2 - c*x*x_start + c*x_start**2/2 + m*x**3/6 - m*x*x_start**2/2 + m*x_start**3/3, x <= Max(x_end, x_start)), (c*x*x_end - c*x*x_start - c*x_end*Max(x_end, x_start) + c*x_start**2/2 + c*Max(x_end, x_start)**2/2 + m*x*x_end**2/2 - m*x*x_start**2/2 - m*x_end**2*Max(x_end, x_start)/2 + m*x_start**3/3 + m*Max(x_end, x_start)**3/6, True)), x_end >= x_start), (0, True))"
      ]
     },
     "metadata": {},
     "output_type": "display_data"
    },
    {
     "name": "stdout",
     "output_type": "stream",
     "text": [
      "Piecewise((Piecewise((0, x <= x_start), (c*x**2/2 - c*x*x_start + c*x_start**2/2 + m*x**3/6 - m*x*x_start**2/2 + m*x_start**3/3, x <= Max(x_end, x_start)), (c*x*x_end - c*x*x_start - c*x_end*Max(x_end, x_start) + c*x_start**2/2 + c*Max(x_end, x_start)**2/2 + m*x*x_end**2/2 - m*x*x_start**2/2 - m*x_end**2*Max(x_end, x_start)/2 + m*x_start**3/3 + m*Max(x_end, x_start)**3/6, True)), x_end >= x_start), (0, True))\n"
     ]
    }
   ],
   "source": [
    "bm = sp.integrate(v,x)\n",
    "display(sp.simplify(bm))\n",
    "print(sp.simplify(bm))"
   ]
  },
  {
   "cell_type": "code",
   "execution_count": 13,
   "metadata": {},
   "outputs": [
    {
     "name": "stdout",
     "output_type": "stream",
     "text": [
      "c*x**2/2 - c*x*x_start + c*x_start**2/2 + m*x**3/6 - m*x*x_start**2/2 + m*x_start**3/3\n",
      "c*x*x_end - c*x*x_start - c*x_end**2/2 + c*x_start**2/2 + m*x*x_end**2/2 - m*x*x_start**2/2 - m*x_end**3/3 + m*x_start**3/3\n"
     ]
    }
   ],
   "source": [
    "bm1 = c*x**2/2 - c*x*x_start + c*x_start**2/2 + m*x**3/6 - m*x*x_start**2/2 + m*x_start**3/3\n",
    "bm2 = c*x*x_end - c*x*x_start - c*x_end*x_end + c*x_start**2/2 + c*x_end**2/2 + m*x*x_end**2/2 - m*x*x_start**2/2 - m*x_end**2*x_end/2 + m*x_start**3/3 + m*x_end**3/6\n",
    "\n",
    "print(sp.simplify(bm1))\n",
    "print(sp.simplify(bm2))"
   ]
  },
  {
   "cell_type": "code",
   "execution_count": 14,
   "metadata": {},
   "outputs": [
    {
     "data": {
      "text/latex": [
       "$\\displaystyle \\begin{cases} \\begin{cases} 0 & \\text{for}\\: x \\leq x_{start} \\\\\\frac{c x^{3}}{6} - \\frac{c x^{2} x_{start}}{2} + \\frac{c x x_{start}^{2}}{2} - \\frac{c x_{start}^{3}}{6} + \\frac{m x^{4}}{24} - \\frac{m x^{2} x_{start}^{2}}{4} + \\frac{m x x_{start}^{3}}{3} - \\frac{m x_{start}^{4}}{8} & \\text{for}\\: x \\leq \\max\\left(x_{end}, x_{start}\\right) \\\\\\frac{c x^{2} x_{end}}{2} - \\frac{c x^{2} x_{start}}{2} - \\frac{c x x_{end}^{2}}{2} + \\frac{c x x_{start}^{2}}{2} + \\frac{c x_{end}^{2} \\max\\left(x_{end}, x_{start}\\right)}{2} - \\frac{c x_{end} \\max\\left(x_{end}, x_{start}\\right)^{2}}{2} - \\frac{c x_{start}^{3}}{6} + \\frac{c \\max\\left(x_{end}, x_{start}\\right)^{3}}{6} + \\frac{m x^{2} x_{end}^{2}}{4} - \\frac{m x^{2} x_{start}^{2}}{4} - \\frac{m x x_{end}^{3}}{3} + \\frac{m x x_{start}^{3}}{3} + \\frac{m x_{end}^{3} \\max\\left(x_{end}, x_{start}\\right)}{3} - \\frac{m x_{end}^{2} \\max\\left(x_{end}, x_{start}\\right)^{2}}{4} - \\frac{m x_{start}^{4}}{8} + \\frac{m \\max\\left(x_{end}, x_{start}\\right)^{4}}{24} & \\text{otherwise} \\end{cases} & \\text{for}\\: x_{end} \\geq x_{start} \\\\0 & \\text{otherwise} \\end{cases}$"
      ],
      "text/plain": [
       "Piecewise((Piecewise((0, x <= x_start), (c*x**3/6 - c*x**2*x_start/2 + c*x*x_start**2/2 - c*x_start**3/6 + m*x**4/24 - m*x**2*x_start**2/4 + m*x*x_start**3/3 - m*x_start**4/8, x <= Max(x_end, x_start)), (c*x**2*x_end/2 - c*x**2*x_start/2 - c*x*x_end**2/2 + c*x*x_start**2/2 + c*x_end**2*Max(x_end, x_start)/2 - c*x_end*Max(x_end, x_start)**2/2 - c*x_start**3/6 + c*Max(x_end, x_start)**3/6 + m*x**2*x_end**2/4 - m*x**2*x_start**2/4 - m*x*x_end**3/3 + m*x*x_start**3/3 + m*x_end**3*Max(x_end, x_start)/3 - m*x_end**2*Max(x_end, x_start)**2/4 - m*x_start**4/8 + m*Max(x_end, x_start)**4/24, True)), x_end >= x_start), (0, True))"
      ]
     },
     "metadata": {},
     "output_type": "display_data"
    },
    {
     "name": "stdout",
     "output_type": "stream",
     "text": [
      "Piecewise((Piecewise((0, x <= x_start), (c*x**3/6 - c*x**2*x_start/2 + c*x*x_start**2/2 - c*x_start**3/6 + m*x**4/24 - m*x**2*x_start**2/4 + m*x*x_start**3/3 - m*x_start**4/8, x <= Max(x_end, x_start)), (c*x**2*x_end/2 - c*x**2*x_start/2 - c*x*x_end**2/2 + c*x*x_start**2/2 + c*x_end**2*Max(x_end, x_start)/2 - c*x_end*Max(x_end, x_start)**2/2 - c*x_start**3/6 + c*Max(x_end, x_start)**3/6 + m*x**2*x_end**2/4 - m*x**2*x_start**2/4 - m*x*x_end**3/3 + m*x*x_start**3/3 + m*x_end**3*Max(x_end, x_start)/3 - m*x_end**2*Max(x_end, x_start)**2/4 - m*x_start**4/8 + m*Max(x_end, x_start)**4/24, True)), x_end >= x_start), (0, True))\n"
     ]
    }
   ],
   "source": [
    "alpha = sp.integrate(bm,x)\n",
    "display(sp.simplify(alpha))\n",
    "print(sp.simplify(alpha))"
   ]
  },
  {
   "cell_type": "code",
   "execution_count": 15,
   "metadata": {},
   "outputs": [
    {
     "name": "stdout",
     "output_type": "stream",
     "text": [
      "c*x**3/6 - c*x**2*x_start/2 + c*x*x_start**2/2 - c*x_start**3/6 + m*x**4/24 - m*x**2*x_start**2/4 + m*x*x_start**3/3 - m*x_start**4/8\n",
      "c*x**2*x_end/2 - c*x**2*x_start/2 - c*x*x_end**2/2 + c*x*x_start**2/2 + c*x_end**3/6 - c*x_start**3/6 + m*x**2*x_end**2/4 - m*x**2*x_start**2/4 - m*x*x_end**3/3 + m*x*x_start**3/3 + m*x_end**4/8 - m*x_start**4/8\n"
     ]
    }
   ],
   "source": [
    "alpha1 = c*x**3/6 - c*x**2*x_start/2 + c*x*x_start**2/2 - c*x_start**3/6 + m*x**4/24 - m*x**2*x_start**2/4 + m*x*x_start**3/3 - m*x_start**4/8\n",
    "alpha2 = c*x**2*x_end/2 - c*x**2*x_start/2 - c*x*x_end**2/2 + c*x*x_start**2/2 + c*x_end**2*x_end/2 - c*x_end*x_end**2/2 - c*x_start**3/6 + c*x_end**3/6 + m*x**2*x_end**2/4 - m*x**2*x_start**2/4 - m*x*x_end**3/3 + m*x*x_start**3/3 + m*x_end**3*x_end/3 - m*x_end**2*x_end**2/4 - m*x_start**4/8 + m*x_end**4/24\n",
    "\n",
    "print(sp.simplify(alpha1))\n",
    "print(sp.simplify(alpha2))"
   ]
  },
  {
   "cell_type": "code",
   "execution_count": 16,
   "metadata": {},
   "outputs": [
    {
     "data": {
      "text/latex": [
       "$\\displaystyle \\begin{cases} \\begin{cases} 0 & \\text{for}\\: x \\leq x_{start} \\\\\\frac{c x^{4}}{24} - \\frac{c x^{3} x_{start}}{6} + \\frac{c x^{2} x_{start}^{2}}{4} - \\frac{c x x_{start}^{3}}{6} + \\frac{c x_{start}^{4}}{24} + \\frac{m x^{5}}{120} - \\frac{m x^{3} x_{start}^{2}}{12} + \\frac{m x^{2} x_{start}^{3}}{6} - \\frac{m x x_{start}^{4}}{8} + \\frac{m x_{start}^{5}}{30} & \\text{for}\\: x \\leq \\max\\left(x_{end}, x_{start}\\right) \\\\\\frac{c x^{3} x_{end}}{6} - \\frac{c x^{3} x_{start}}{6} - \\frac{c x^{2} x_{end}^{2}}{4} + \\frac{c x^{2} x_{start}^{2}}{4} + \\frac{c x x_{end}^{3}}{6} - \\frac{c x x_{start}^{3}}{6} - \\frac{c x_{end}^{3} \\max\\left(x_{end}, x_{start}\\right)}{6} + \\frac{c x_{end}^{2} \\max\\left(x_{end}, x_{start}\\right)^{2}}{4} - \\frac{c x_{end} \\max\\left(x_{end}, x_{start}\\right)^{3}}{6} + \\frac{c x_{start}^{4}}{24} + \\frac{c \\max\\left(x_{end}, x_{start}\\right)^{4}}{24} + \\frac{m x^{3} x_{end}^{2}}{12} - \\frac{m x^{3} x_{start}^{2}}{12} - \\frac{m x^{2} x_{end}^{3}}{6} + \\frac{m x^{2} x_{start}^{3}}{6} + \\frac{m x x_{end}^{4}}{8} - \\frac{m x x_{start}^{4}}{8} - \\frac{m x_{end}^{4} \\max\\left(x_{end}, x_{start}\\right)}{8} + \\frac{m x_{end}^{3} \\max\\left(x_{end}, x_{start}\\right)^{2}}{6} - \\frac{m x_{end}^{2} \\max\\left(x_{end}, x_{start}\\right)^{3}}{12} + \\frac{m x_{start}^{5}}{30} + \\frac{m \\max\\left(x_{end}, x_{start}\\right)^{5}}{120} & \\text{otherwise} \\end{cases} & \\text{for}\\: x_{end} \\geq x_{start} \\\\0 & \\text{otherwise} \\end{cases}$"
      ],
      "text/plain": [
       "Piecewise((Piecewise((0, x <= x_start), (c*x**4/24 - c*x**3*x_start/6 + c*x**2*x_start**2/4 - c*x*x_start**3/6 + c*x_start**4/24 + m*x**5/120 - m*x**3*x_start**2/12 + m*x**2*x_start**3/6 - m*x*x_start**4/8 + m*x_start**5/30, x <= Max(x_end, x_start)), (c*x**3*x_end/6 - c*x**3*x_start/6 - c*x**2*x_end**2/4 + c*x**2*x_start**2/4 + c*x*x_end**3/6 - c*x*x_start**3/6 - c*x_end**3*Max(x_end, x_start)/6 + c*x_end**2*Max(x_end, x_start)**2/4 - c*x_end*Max(x_end, x_start)**3/6 + c*x_start**4/24 + c*Max(x_end, x_start)**4/24 + m*x**3*x_end**2/12 - m*x**3*x_start**2/12 - m*x**2*x_end**3/6 + m*x**2*x_start**3/6 + m*x*x_end**4/8 - m*x*x_start**4/8 - m*x_end**4*Max(x_end, x_start)/8 + m*x_end**3*Max(x_end, x_start)**2/6 - m*x_end**2*Max(x_end, x_start)**3/12 + m*x_start**5/30 + m*Max(x_end, x_start)**5/120, True)), x_end >= x_start), (0, True))"
      ]
     },
     "metadata": {},
     "output_type": "display_data"
    },
    {
     "name": "stdout",
     "output_type": "stream",
     "text": [
      "Piecewise((Piecewise((0, x <= x_start), (c*x**4/24 - c*x**3*x_start/6 + c*x**2*x_start**2/4 - c*x*x_start**3/6 + c*x_start**4/24 + m*x**5/120 - m*x**3*x_start**2/12 + m*x**2*x_start**3/6 - m*x*x_start**4/8 + m*x_start**5/30, x <= Max(x_end, x_start)), (c*x**3*x_end/6 - c*x**3*x_start/6 - c*x**2*x_end**2/4 + c*x**2*x_start**2/4 + c*x*x_end**3/6 - c*x*x_start**3/6 - c*x_end**3*Max(x_end, x_start)/6 + c*x_end**2*Max(x_end, x_start)**2/4 - c*x_end*Max(x_end, x_start)**3/6 + c*x_start**4/24 + c*Max(x_end, x_start)**4/24 + m*x**3*x_end**2/12 - m*x**3*x_start**2/12 - m*x**2*x_end**3/6 + m*x**2*x_start**3/6 + m*x*x_end**4/8 - m*x*x_start**4/8 - m*x_end**4*Max(x_end, x_start)/8 + m*x_end**3*Max(x_end, x_start)**2/6 - m*x_end**2*Max(x_end, x_start)**3/12 + m*x_start**5/30 + m*Max(x_end, x_start)**5/120, True)), x_end >= x_start), (0, True))\n"
     ]
    }
   ],
   "source": [
    "dev = sp.integrate(alpha,x)\n",
    "display(sp.simplify(dev))\n",
    "print(sp.simplify(dev))"
   ]
  },
  {
   "cell_type": "code",
   "execution_count": 17,
   "metadata": {},
   "outputs": [
    {
     "name": "stdout",
     "output_type": "stream",
     "text": [
      "c*x**4/24 - c*x**3*x_start/6 + c*x**2*x_start**2/4 - c*x*x_start**3/6 + c*x_start**4/24 + m*x**5/120 - m*x**3*x_start**2/12 + m*x**2*x_start**3/6 - m*x*x_start**4/8 + m*x_start**5/30\n",
      "c*x**3*x_end/6 - c*x**3*x_start/6 - c*x**2*x_end**2/4 + c*x**2*x_start**2/4 + c*x*x_end**3/6 - c*x*x_start**3/6 - c*x_end**4/24 + c*x_start**4/24 + m*x**3*x_end**2/12 - m*x**3*x_start**2/12 - m*x**2*x_end**3/6 + m*x**2*x_start**3/6 + m*x*x_end**4/8 - m*x*x_start**4/8 - m*x_end**5/30 + m*x_start**5/30\n"
     ]
    }
   ],
   "source": [
    "dev1 = c*x**4/24 - c*x**3*x_start/6 + c*x**2*x_start**2/4 - c*x*x_start**3/6 + c*x_start**4/24 + m*x**5/120 - m*x**3*x_start**2/12 + m*x**2*x_start**3/6 - m*x*x_start**4/8 + m*x_start**5/30\n",
    "dev2 = c*x**3*x_end/6 - c*x**3*x_start/6 - c*x**2*x_end**2/4 + c*x**2*x_start**2/4 + c*x*x_end**3/6 - c*x*x_start**3/6 - c*x_end**3*x_end/6 + c*x_end**2*x_end**2/4 - c*x_end*x_end**3/6 + c*x_start**4/24 + c*x_end**4/24 + m*x**3*x_end**2/12 - m*x**3*x_start**2/12 - m*x**2*x_end**3/6 + m*x**2*x_start**3/6 + m*x*x_end**4/8 - m*x*x_start**4/8 - m*x_end**4*x_end/8 + m*x_end**3*x_end**2/6 - m*x_end**2*x_end**3/12 + m*x_start**5/30 + m*x_end**5/120\n",
    "\n",
    "print(sp.simplify(dev1))\n",
    "print(sp.simplify(dev2))"
   ]
  }
 ],
 "metadata": {
  "kernelspec": {
   "display_name": "Python 3.10.5 64-bit",
   "language": "python",
   "name": "python3"
  },
  "language_info": {
   "codemirror_mode": {
    "name": "ipython",
    "version": 3
   },
   "file_extension": ".py",
   "mimetype": "text/x-python",
   "name": "python",
   "nbconvert_exporter": "python",
   "pygments_lexer": "ipython3",
   "version": "3.10.5"
  },
  "orig_nbformat": 4,
  "vscode": {
   "interpreter": {
    "hash": "8f89a6284e35e05a02f78ae58e1195ef45c420fc64682672b9d4ce68be967371"
   }
  }
 },
 "nbformat": 4,
 "nbformat_minor": 2
}
